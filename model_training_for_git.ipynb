{
 "nbformat": 4,
 "nbformat_minor": 0,
 "metadata": {
  "colab": {
   "provenance": []
  },
  "kernelspec": {
   "name": "python3",
   "display_name": "Python 3 (ipykernel)",
   "language": "python"
  },
  "language_info": {
   "name": "python"
  }
 },
 "cells": [
  {
   "metadata": {
    "colab": {
     "base_uri": "https://localhost:8080/"
    },
    "id": "cX-CqThSUasj",
    "outputId": "c05032e6-be3b-4c12-8a76-de198dbc56ac",
    "ExecuteTime": {
     "end_time": "2025-03-31T06:59:34.411709Z",
     "start_time": "2025-03-31T06:59:24.319442Z"
    }
   },
   "cell_type": "code",
   "execution_count": 9,
   "source": [
    "!pip install roboflow\n",
    "\n",
    "from roboflow import Roboflow\n",
    "rf = Roboflow(api_key=\"\") #use your api key\n",
    "project = rf.workspace(\"speed-breaker-detection-4xev0\").project(\"speed_breaker_dataset\")\n",
    "version = project.version(2)\n",
    "dataset = version.download(\"yolov11\")\n"
   ],
   "outputs": []
  },
  {
   "metadata": {
    "colab": {
     "base_uri": "https://localhost:8080/"
    },
    "id": "XkFIBgXz77cd",
    "outputId": "a801bfd3-5a73-4f55-857d-683b37840133",
    "ExecuteTime": {
     "end_time": "2025-03-31T07:15:09.989515Z",
     "start_time": "2025-03-31T07:15:09.836053Z"
    }
   },
   "cell_type": "code",
   "source": "!python train.py --img 640 --batch 2 --epochs 50 --data S:\\Coding\\Projects\\BumpAlert\\Speed_breaker_dataset-2\\data.yaml --weights yolov5s.pt --cache\n",
   "outputs": [
    {
     "name": "stderr",
     "output_type": "stream",
     "text": [
      "C:\\Users\\arund\\AppData\\Local\\Microsoft\\WindowsApps\\PythonSoftwareFoundation.Python.3.11_qbz5n2kfra8p0\\python.exe: can't open file 'S:\\\\Coding\\\\Projects\\\\BumpAlert\\\\train.py': [Errno 2] No such file or directory\n"
     ]
    }
   ],
   "execution_count": 2
  },
  {
   "metadata": {
    "ExecuteTime": {
     "end_time": "2025-03-31T06:59:53.547197Z",
     "start_time": "2025-03-31T06:59:50.749817Z"
    }
   },
   "cell_type": "code",
   "source": [
    "import torch\n",
    "\n",
    "# Check if CUDA is available\n",
    "if torch.cuda.is_available():\n",
    "    print(f\"CUDA is available. GPU: {torch.cuda.get_device_name(0)}\")\n",
    "else:\n",
    "    print(\"CUDA is not available. Using CPU.\")\n"
   ],
   "outputs": [
    {
     "name": "stdout",
     "output_type": "stream",
     "text": [
      "CUDA is not available. Using CPU.\n"
     ]
    }
   ],
   "execution_count": 13
  },
  {
   "metadata": {
    "ExecuteTime": {
     "end_time": "2025-03-31T06:59:53.992244Z",
     "start_time": "2025-03-31T06:59:53.707966Z"
    }
   },
   "cell_type": "code",
   "source": [
    "import torch\n",
    "print(torch.__version__)\n",
    "print(torch.cuda.is_available())\n",
    "print(torch.cuda.get_device_name(0))\n"
   ],
   "outputs": [
    {
     "name": "stdout",
     "output_type": "stream",
     "text": [
      "2.6.0+cpu\n",
      "False\n"
     ]
    },
    {
     "ename": "AssertionError",
     "evalue": "Torch not compiled with CUDA enabled",
     "output_type": "error",
     "traceback": [
      "\u001B[31m---------------------------------------------------------------------------\u001B[39m",
      "\u001B[31mAssertionError\u001B[39m                            Traceback (most recent call last)",
      "\u001B[36mCell\u001B[39m\u001B[36m \u001B[39m\u001B[32mIn[15]\u001B[39m\u001B[32m, line 4\u001B[39m\n\u001B[32m      2\u001B[39m \u001B[38;5;28mprint\u001B[39m(torch.__version__)\n\u001B[32m      3\u001B[39m \u001B[38;5;28mprint\u001B[39m(torch.cuda.is_available())\n\u001B[32m----> \u001B[39m\u001B[32m4\u001B[39m \u001B[38;5;28mprint\u001B[39m(\u001B[43mtorch\u001B[49m\u001B[43m.\u001B[49m\u001B[43mcuda\u001B[49m\u001B[43m.\u001B[49m\u001B[43mget_device_name\u001B[49m\u001B[43m(\u001B[49m\u001B[32;43m0\u001B[39;49m\u001B[43m)\u001B[49m)\n",
      "\u001B[36mFile \u001B[39m\u001B[32mS:\\Coding\\Projects\\BumpAlert\\.venv\\Lib\\site-packages\\torch\\cuda\\__init__.py:491\u001B[39m, in \u001B[36mget_device_name\u001B[39m\u001B[34m(device)\u001B[39m\n\u001B[32m    479\u001B[39m \u001B[38;5;28;01mdef\u001B[39;00m\u001B[38;5;250m \u001B[39m\u001B[34mget_device_name\u001B[39m(device: Optional[_device_t] = \u001B[38;5;28;01mNone\u001B[39;00m) -> \u001B[38;5;28mstr\u001B[39m:\n\u001B[32m    480\u001B[39m \u001B[38;5;250m    \u001B[39m\u001B[33mr\u001B[39m\u001B[33;03m\"\"\"Get the name of a device.\u001B[39;00m\n\u001B[32m    481\u001B[39m \n\u001B[32m    482\u001B[39m \u001B[33;03m    Args:\u001B[39;00m\n\u001B[32m   (...)\u001B[39m\u001B[32m    489\u001B[39m \u001B[33;03m        str: the name of the device\u001B[39;00m\n\u001B[32m    490\u001B[39m \u001B[33;03m    \"\"\"\u001B[39;00m\n\u001B[32m--> \u001B[39m\u001B[32m491\u001B[39m     \u001B[38;5;28;01mreturn\u001B[39;00m \u001B[43mget_device_properties\u001B[49m\u001B[43m(\u001B[49m\u001B[43mdevice\u001B[49m\u001B[43m)\u001B[49m.name\n",
      "\u001B[36mFile \u001B[39m\u001B[32mS:\\Coding\\Projects\\BumpAlert\\.venv\\Lib\\site-packages\\torch\\cuda\\__init__.py:523\u001B[39m, in \u001B[36mget_device_properties\u001B[39m\u001B[34m(device)\u001B[39m\n\u001B[32m    511\u001B[39m \u001B[38;5;28;01mdef\u001B[39;00m\u001B[38;5;250m \u001B[39m\u001B[34mget_device_properties\u001B[39m(device: Optional[_device_t] = \u001B[38;5;28;01mNone\u001B[39;00m) -> _CudaDeviceProperties:\n\u001B[32m    512\u001B[39m \u001B[38;5;250m    \u001B[39m\u001B[33mr\u001B[39m\u001B[33;03m\"\"\"Get the properties of a device.\u001B[39;00m\n\u001B[32m    513\u001B[39m \n\u001B[32m    514\u001B[39m \u001B[33;03m    Args:\u001B[39;00m\n\u001B[32m   (...)\u001B[39m\u001B[32m    521\u001B[39m \u001B[33;03m        _CudaDeviceProperties: the properties of the device\u001B[39;00m\n\u001B[32m    522\u001B[39m \u001B[33;03m    \"\"\"\u001B[39;00m\n\u001B[32m--> \u001B[39m\u001B[32m523\u001B[39m     \u001B[43m_lazy_init\u001B[49m\u001B[43m(\u001B[49m\u001B[43m)\u001B[49m  \u001B[38;5;66;03m# will define _get_device_properties\u001B[39;00m\n\u001B[32m    524\u001B[39m     device = _get_device_index(device, optional=\u001B[38;5;28;01mTrue\u001B[39;00m)\n\u001B[32m    525\u001B[39m     \u001B[38;5;28;01mif\u001B[39;00m device < \u001B[32m0\u001B[39m \u001B[38;5;129;01mor\u001B[39;00m device >= device_count():\n",
      "\u001B[36mFile \u001B[39m\u001B[32mS:\\Coding\\Projects\\BumpAlert\\.venv\\Lib\\site-packages\\torch\\cuda\\__init__.py:310\u001B[39m, in \u001B[36m_lazy_init\u001B[39m\u001B[34m()\u001B[39m\n\u001B[32m    305\u001B[39m     \u001B[38;5;28;01mraise\u001B[39;00m \u001B[38;5;167;01mRuntimeError\u001B[39;00m(\n\u001B[32m    306\u001B[39m         \u001B[33m\"\u001B[39m\u001B[33mCannot re-initialize CUDA in forked subprocess. To use CUDA with \u001B[39m\u001B[33m\"\u001B[39m\n\u001B[32m    307\u001B[39m         \u001B[33m\"\u001B[39m\u001B[33mmultiprocessing, you must use the \u001B[39m\u001B[33m'\u001B[39m\u001B[33mspawn\u001B[39m\u001B[33m'\u001B[39m\u001B[33m start method\u001B[39m\u001B[33m\"\u001B[39m\n\u001B[32m    308\u001B[39m     )\n\u001B[32m    309\u001B[39m \u001B[38;5;28;01mif\u001B[39;00m \u001B[38;5;129;01mnot\u001B[39;00m \u001B[38;5;28mhasattr\u001B[39m(torch._C, \u001B[33m\"\u001B[39m\u001B[33m_cuda_getDeviceCount\u001B[39m\u001B[33m\"\u001B[39m):\n\u001B[32m--> \u001B[39m\u001B[32m310\u001B[39m     \u001B[38;5;28;01mraise\u001B[39;00m \u001B[38;5;167;01mAssertionError\u001B[39;00m(\u001B[33m\"\u001B[39m\u001B[33mTorch not compiled with CUDA enabled\u001B[39m\u001B[33m\"\u001B[39m)\n\u001B[32m    311\u001B[39m \u001B[38;5;28;01mif\u001B[39;00m _cudart \u001B[38;5;129;01mis\u001B[39;00m \u001B[38;5;28;01mNone\u001B[39;00m:\n\u001B[32m    312\u001B[39m     \u001B[38;5;28;01mraise\u001B[39;00m \u001B[38;5;167;01mAssertionError\u001B[39;00m(\n\u001B[32m    313\u001B[39m         \u001B[33m\"\u001B[39m\u001B[33mlibcudart functions unavailable. It looks like you have a broken build?\u001B[39m\u001B[33m\"\u001B[39m\n\u001B[32m    314\u001B[39m     )\n",
      "\u001B[31mAssertionError\u001B[39m: Torch not compiled with CUDA enabled"
     ]
    }
   ],
   "execution_count": 15
  },
  {
   "metadata": {
    "ExecuteTime": {
     "end_time": "2025-04-02T13:58:08.512033Z",
     "start_time": "2025-04-02T13:57:58.533414Z"
    }
   },
   "cell_type": "code",
   "source": "!python yolov5/detect.py --weights yolov5/runs/train/exp/weights/best.pt --img 640 --source 2.jpg\n",
   "outputs": [
    {
     "name": "stderr",
     "output_type": "stream",
     "text": [
      "\u001B[34m\u001B[1mdetect: \u001B[0mweights=['yolov5/runs/train/exp/weights/best.pt'], source=Images/2.jpg, data=yolov5\\data\\coco128.yaml, imgsz=[640, 640], conf_thres=0.25, iou_thres=0.45, max_det=1000, device=, view_img=False, save_txt=False, save_format=0, save_csv=False, save_conf=False, save_crop=False, nosave=False, classes=None, agnostic_nms=False, augment=False, visualize=False, update=False, project=yolov5\\runs\\detect, name=exp, exist_ok=False, line_thickness=3, hide_labels=False, hide_conf=False, half=False, dnn=False, vid_stride=1\n",
      "YOLOv5  v7.0-411-gf4d8a84c Python-3.11.9 torch-2.6.0+cpu CPU\n",
      "\n",
      "Fusing layers... \n",
      "Model summary: 157 layers, 7015519 parameters, 0 gradients, 15.8 GFLOPs\n",
      "image 1/1 S:\\Coding\\Projects\\BumpAlert\\Images\\2.jpg: 384x640 (no detections), 111.3ms\n",
      "Speed: 1.0ms pre-process, 111.3ms inference, 0.0ms NMS per image at shape (1, 3, 640, 640)\n",
      "Results saved to \u001B[1myolov5\\runs\\detect\\exp3\u001B[0m\n"
     ]
    }
   ],
   "execution_count": 29
  },
  {
   "metadata": {
    "ExecuteTime": {
     "end_time": "2025-04-02T13:24:21.988086Z",
     "start_time": "2025-04-02T13:24:21.567017Z"
    }
   },
   "cell_type": "code",
   "source": [
    "import torch\n",
    "\n",
    "# Assuming your trained model is in the 'best.pt' file from YOLOv5\n",
    "model = torch.load('yolov5/runs/train/exp/weights/best.pt')  # Load the trained YOLOv5 model\n",
    "\n",
    "# Save the model to a custom path\n",
    "torch.save(model, 'model.pth')\n"
   ],
   "outputs": [],
   "execution_count": 24
  }
 ]
}
